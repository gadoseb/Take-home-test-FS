{
 "cells": [
  {
   "cell_type": "markdown",
   "metadata": {},
   "source": [
    "# Take Home Test - Backend - Data Processing Task\n",
    "\n",
    "A naïve calculation of the impact of a recipe involves multiplying the weight of each ingredient by the impact per kilogram of that ingredient.\n",
    "\n",
    "However, we don't necessarily have direct impacts for every ingredient. For instance, there might be scarce academic literature on the impact of Jerusalem artichokes. However, since Jerusalem artichokes are root vegetables, and we have impact data for other root vegetables, we can produce a best estimate for the impact of a generic root vegetable and use that value as a proxy for the impact of Jerusalem artichokes.\n",
    "\n",
    "To model this, we have created what we call a \"food class hierarchy\", which is just an n-ary tree. When we want to retrieve the impact for a given ingredient, we first look at its corresponding food class. If that food class has an impact, we use it. Otherwise, we move to its parent food class and repeat the process. We continue this recursion up the tree until we reach a food class without a parent, in which case we've reached a root node. If this node has no impact, then we can't recurse and we've failed to retrieve an impact and should throw an error.\n",
    "\n",
    "The other issue is ingredient names are entered by users and must be matched to food classes. In some cases, we're lucky and the ingredient name entered by the user matches exactly with the name of a food class. But often this is not the case. As such, when matching names, we ignore case, punctuation and word order. For example, the ingredient `tomatoes, plum (Chopped)` would match with the food class `Chopped Plum Tomatoes`.\n",
    "\n",
    "##### Inputs\n",
    "\n",
    "You are provided with two CSV files: `food_classes.csv` and `recipes.csv`.\n",
    "\n",
    "`food_classes.csv` contains data with the following schema:\n",
    "- ID\n",
    "- Name\n",
    "- Impact / kg\n",
    "- Parent ID\n",
    "\n",
    "_Impact values are randomly generated._\n",
    "\n",
    "`recipes.csv` contains data with the following schema:\n",
    "- Recipe ID\n",
    "- Recipe Name\n",
    "- Ingredient Name\n",
    "- Ingredient Weight / kg\n",
    "\n",
    "##### Goal\n",
    "\n",
    "You are required to write a script to calculate the impact of all the recipes in `recipes.csv`. If there is an ingredient in a recipe that cannot be matched to a food class, you should not give an impact for that recipe."
   ]
  },
  {
   "cell_type": "markdown",
   "metadata": {},
   "source": [
    "## Step 0: Import Modules\n",
    "- **`pandas`**: Data manipulation library in Python used to handle data in tabular form with DataFrames.\n",
    "- **`re`**: Module for working with regular expressions used to process text by matching patterns.\n",
    "- **`os`**: Provides functions to interact with the operating system. Here, it's used to access file paths dynamically."
   ]
  },
  {
   "cell_type": "code",
   "execution_count": 1,
   "metadata": {},
   "outputs": [],
   "source": [
    "import pandas as pd\n",
    "import re\n",
    "import os"
   ]
  },
  {
   "cell_type": "markdown",
   "metadata": {},
   "source": [
    "## Step 1: Load Data\n",
    "Reads the CSV files into two DataFrames."
   ]
  },
  {
   "cell_type": "code",
   "execution_count": 3,
   "metadata": {},
   "outputs": [],
   "source": [
    "food_classes_df = pd.read_csv('food_classes.csv')\n",
    "recipes_df = pd.read_csv('recipes.csv')"
   ]
  },
  {
   "cell_type": "code",
   "execution_count": 4,
   "metadata": {},
   "outputs": [
    {
     "data": {
      "text/html": [
       "<div>\n",
       "<style scoped>\n",
       "    .dataframe tbody tr th:only-of-type {\n",
       "        vertical-align: middle;\n",
       "    }\n",
       "\n",
       "    .dataframe tbody tr th {\n",
       "        vertical-align: top;\n",
       "    }\n",
       "\n",
       "    .dataframe thead th {\n",
       "        text-align: right;\n",
       "    }\n",
       "</style>\n",
       "<table border=\"1\" class=\"dataframe\">\n",
       "  <thead>\n",
       "    <tr style=\"text-align: right;\">\n",
       "      <th></th>\n",
       "      <th>ID</th>\n",
       "      <th>Name</th>\n",
       "      <th>Impact / kg</th>\n",
       "      <th>Parent ID</th>\n",
       "    </tr>\n",
       "  </thead>\n",
       "  <tbody>\n",
       "    <tr>\n",
       "      <th>0</th>\n",
       "      <td>1</td>\n",
       "      <td>Beef Mince</td>\n",
       "      <td>NaN</td>\n",
       "      <td>2.0</td>\n",
       "    </tr>\n",
       "    <tr>\n",
       "      <th>1</th>\n",
       "      <td>2</td>\n",
       "      <td>Beef</td>\n",
       "      <td>2.649402</td>\n",
       "      <td>3.0</td>\n",
       "    </tr>\n",
       "    <tr>\n",
       "      <th>2</th>\n",
       "      <td>3</td>\n",
       "      <td>Ruminant Meat</td>\n",
       "      <td>5.508226</td>\n",
       "      <td>4.0</td>\n",
       "    </tr>\n",
       "    <tr>\n",
       "      <th>3</th>\n",
       "      <td>4</td>\n",
       "      <td>Meat</td>\n",
       "      <td>1.310414</td>\n",
       "      <td>NaN</td>\n",
       "    </tr>\n",
       "    <tr>\n",
       "      <th>4</th>\n",
       "      <td>5</td>\n",
       "      <td>Pork Mince</td>\n",
       "      <td>NaN</td>\n",
       "      <td>6.0</td>\n",
       "    </tr>\n",
       "  </tbody>\n",
       "</table>\n",
       "</div>"
      ],
      "text/plain": [
       "   ID           Name  Impact / kg  Parent ID\n",
       "0   1     Beef Mince          NaN        2.0\n",
       "1   2           Beef     2.649402        3.0\n",
       "2   3  Ruminant Meat     5.508226        4.0\n",
       "3   4           Meat     1.310414        NaN\n",
       "4   5     Pork Mince          NaN        6.0"
      ]
     },
     "execution_count": 4,
     "metadata": {},
     "output_type": "execute_result"
    }
   ],
   "source": [
    "food_classes_df.head()"
   ]
  },
  {
   "cell_type": "code",
   "execution_count": 5,
   "metadata": {},
   "outputs": [
    {
     "data": {
      "text/html": [
       "<div>\n",
       "<style scoped>\n",
       "    .dataframe tbody tr th:only-of-type {\n",
       "        vertical-align: middle;\n",
       "    }\n",
       "\n",
       "    .dataframe tbody tr th {\n",
       "        vertical-align: top;\n",
       "    }\n",
       "\n",
       "    .dataframe thead th {\n",
       "        text-align: right;\n",
       "    }\n",
       "</style>\n",
       "<table border=\"1\" class=\"dataframe\">\n",
       "  <thead>\n",
       "    <tr style=\"text-align: right;\">\n",
       "      <th></th>\n",
       "      <th>Recipe ID</th>\n",
       "      <th>Recipe Name</th>\n",
       "      <th>Ingredient Name</th>\n",
       "      <th>Ingredient Weight / kg</th>\n",
       "    </tr>\n",
       "  </thead>\n",
       "  <tbody>\n",
       "    <tr>\n",
       "      <th>0</th>\n",
       "      <td>1</td>\n",
       "      <td>Spaghetti Bolognese</td>\n",
       "      <td>beef mince</td>\n",
       "      <td>0.25</td>\n",
       "    </tr>\n",
       "    <tr>\n",
       "      <th>1</th>\n",
       "      <td>1</td>\n",
       "      <td>Spaghetti Bolognese</td>\n",
       "      <td>Pork Mince</td>\n",
       "      <td>0.25</td>\n",
       "    </tr>\n",
       "    <tr>\n",
       "      <th>2</th>\n",
       "      <td>1</td>\n",
       "      <td>Spaghetti Bolognese</td>\n",
       "      <td>Carrots</td>\n",
       "      <td>0.10</td>\n",
       "    </tr>\n",
       "    <tr>\n",
       "      <th>3</th>\n",
       "      <td>1</td>\n",
       "      <td>Spaghetti Bolognese</td>\n",
       "      <td>Onions</td>\n",
       "      <td>0.25</td>\n",
       "    </tr>\n",
       "    <tr>\n",
       "      <th>4</th>\n",
       "      <td>1</td>\n",
       "      <td>Spaghetti Bolognese</td>\n",
       "      <td>Celery</td>\n",
       "      <td>0.10</td>\n",
       "    </tr>\n",
       "  </tbody>\n",
       "</table>\n",
       "</div>"
      ],
      "text/plain": [
       "   Recipe ID          Recipe Name Ingredient Name  Ingredient Weight / kg\n",
       "0          1  Spaghetti Bolognese      beef mince                    0.25\n",
       "1          1  Spaghetti Bolognese      Pork Mince                    0.25\n",
       "2          1  Spaghetti Bolognese         Carrots                    0.10\n",
       "3          1  Spaghetti Bolognese          Onions                    0.25\n",
       "4          1  Spaghetti Bolognese          Celery                    0.10"
      ]
     },
     "execution_count": 5,
     "metadata": {},
     "output_type": "execute_result"
    }
   ],
   "source": [
    "recipes_df.head()"
   ]
  },
  {
   "cell_type": "markdown",
   "metadata": {},
   "source": [
    "In the code challenge this step was performed as a function which gets the directory of the current Python file, allowing relative paths for accessing files. Then, read the files."
   ]
  },
  {
   "cell_type": "code",
   "execution_count": 6,
   "metadata": {},
   "outputs": [],
   "source": [
    "def load_data() -> pd.DataFrame:\n",
    "    current_dir = os.path.dirname(__file__)\n",
    "    food_classes_df = pd.read_csv(os.path.join(current_dir, 'food_classes.csv'))\n",
    "    recipes_df = pd.read_csv(os.path.join(current_dir, 'recipes.csv'))\n",
    "    return food_classes_df, recipes_df"
   ]
  },
  {
   "cell_type": "markdown",
   "metadata": {},
   "source": [
    "## Step 2: Name normalisation\n",
    "The following function standardises a string by removing punctuation, converting it to lowercase, and sorting the words alphabetically. This allows a closer name matching when the user input does not match exactly the name of a food class."
   ]
  },
  {
   "cell_type": "code",
   "execution_count": 7,
   "metadata": {},
   "outputs": [],
   "source": [
    "def normalize_name(name: str) -> str:\n",
    "    name = re.sub(r'[^\\w\\s]', '', name)  # Remove any characters that aren't word characters\n",
    "    name = name.lower()  # Convert to lowercase\n",
    "    name = ' '.join(sorted(name.split()))  # Arrange words in alphabetical order and join\n",
    "    return name"
   ]
  },
  {
   "cell_type": "markdown",
   "metadata": {},
   "source": [
    "Here is an example on how the function works with a string."
   ]
  },
  {
   "cell_type": "code",
   "execution_count": 8,
   "metadata": {},
   "outputs": [
    {
     "name": "stdout",
     "output_type": "stream",
     "text": [
      "breast chicken\n",
      "bolognese spaghetti\n",
      "eggplant parmesan\n",
      "loin pork steak\n"
     ]
    }
   ],
   "source": [
    "print(normalize_name(\"Chicken Breast\"))     \n",
    "print(normalize_name(\"Spaghetti Bolognese!\"))  \n",
    "print(normalize_name(\"Eggplant Parmesan.\"))\n",
    "print(normalize_name(\"pork, loin steak\"))"
   ]
  },
  {
   "cell_type": "markdown",
   "metadata": {},
   "source": [
    "Here is an example on how to use the function with the values of a specific column in a DataFrame. The `apply` method was used to apply the function to each element in that column."
   ]
  },
  {
   "cell_type": "code",
   "execution_count": 9,
   "metadata": {},
   "outputs": [
    {
     "data": {
      "text/html": [
       "<div>\n",
       "<style scoped>\n",
       "    .dataframe tbody tr th:only-of-type {\n",
       "        vertical-align: middle;\n",
       "    }\n",
       "\n",
       "    .dataframe tbody tr th {\n",
       "        vertical-align: top;\n",
       "    }\n",
       "\n",
       "    .dataframe thead th {\n",
       "        text-align: right;\n",
       "    }\n",
       "</style>\n",
       "<table border=\"1\" class=\"dataframe\">\n",
       "  <thead>\n",
       "    <tr style=\"text-align: right;\">\n",
       "      <th></th>\n",
       "      <th>Recipe ID</th>\n",
       "      <th>Recipe Name</th>\n",
       "      <th>Ingredient Name</th>\n",
       "      <th>Ingredient Weight / kg</th>\n",
       "      <th>Normalized Ingredient Name</th>\n",
       "    </tr>\n",
       "  </thead>\n",
       "  <tbody>\n",
       "    <tr>\n",
       "      <th>0</th>\n",
       "      <td>1</td>\n",
       "      <td>Spaghetti Bolognese</td>\n",
       "      <td>beef mince</td>\n",
       "      <td>0.25</td>\n",
       "      <td>beef mince</td>\n",
       "    </tr>\n",
       "    <tr>\n",
       "      <th>1</th>\n",
       "      <td>1</td>\n",
       "      <td>Spaghetti Bolognese</td>\n",
       "      <td>Pork Mince</td>\n",
       "      <td>0.25</td>\n",
       "      <td>mince pork</td>\n",
       "    </tr>\n",
       "    <tr>\n",
       "      <th>2</th>\n",
       "      <td>1</td>\n",
       "      <td>Spaghetti Bolognese</td>\n",
       "      <td>Carrots</td>\n",
       "      <td>0.10</td>\n",
       "      <td>carrots</td>\n",
       "    </tr>\n",
       "    <tr>\n",
       "      <th>3</th>\n",
       "      <td>1</td>\n",
       "      <td>Spaghetti Bolognese</td>\n",
       "      <td>Onions</td>\n",
       "      <td>0.25</td>\n",
       "      <td>onions</td>\n",
       "    </tr>\n",
       "    <tr>\n",
       "      <th>4</th>\n",
       "      <td>1</td>\n",
       "      <td>Spaghetti Bolognese</td>\n",
       "      <td>Celery</td>\n",
       "      <td>0.10</td>\n",
       "      <td>celery</td>\n",
       "    </tr>\n",
       "  </tbody>\n",
       "</table>\n",
       "</div>"
      ],
      "text/plain": [
       "   Recipe ID          Recipe Name Ingredient Name  Ingredient Weight / kg  \\\n",
       "0          1  Spaghetti Bolognese      beef mince                    0.25   \n",
       "1          1  Spaghetti Bolognese      Pork Mince                    0.25   \n",
       "2          1  Spaghetti Bolognese         Carrots                    0.10   \n",
       "3          1  Spaghetti Bolognese          Onions                    0.25   \n",
       "4          1  Spaghetti Bolognese          Celery                    0.10   \n",
       "\n",
       "  Normalized Ingredient Name  \n",
       "0                 beef mince  \n",
       "1                 mince pork  \n",
       "2                    carrots  \n",
       "3                     onions  \n",
       "4                     celery  "
      ]
     },
     "execution_count": 9,
     "metadata": {},
     "output_type": "execute_result"
    }
   ],
   "source": [
    "recipes_df_dummy = recipes_df.copy()\n",
    "recipes_df_dummy['Normalized Ingredient Name'] = recipes_df_dummy['Ingredient Name'].apply(normalize_name)\n",
    "recipes_df_dummy.head()"
   ]
  },
  {
   "cell_type": "markdown",
   "metadata": {},
   "source": [
    "## Step 3: Food Classes Hierarchy\n",
    "The code sets up an n-ary tree structure to represent the \"food class hierarchy\". Here is a breakdown of the approach and logic:\n",
    "1. Data Structure for Food Classes: The `FoodClass` class is created to store details about each food class, including an `id`, `name`, `impact`, and `parent_id`. A dictionary (`food_classes`) maps each food class ID to a FoodClass object. This allows us to easily access any food class by its ID.\n",
    "2. Building the Food Class Hierarchy: The `build_food_class_hierarchy` function iterates over the DataFrame containing food classes. For each row, it creates a FoodClass object and adds it to the food_classes dictionary. This dictionary represents the hierarchy as an n-ary tree, where each food class is linked to its parent class via the `parent_id` attribute."
   ]
  },
  {
   "cell_type": "code",
   "execution_count": 10,
   "metadata": {},
   "outputs": [],
   "source": [
    "food_classes_df_dummy = food_classes_df.copy()"
   ]
  },
  {
   "cell_type": "code",
   "execution_count": 11,
   "metadata": {},
   "outputs": [],
   "source": [
    "# Class to represent a Food Class\n",
    "class FoodClass:\n",
    "    def __init__(self, id: int, name: str, impact: float, parent_id: int):\n",
    "        self.id = id\n",
    "        self.name = name\n",
    "        self.impact = impact\n",
    "        self.parent_id = parent_id\n",
    "\n",
    "# Function to build the food class hierarchy\n",
    "def build_food_class_hierarchy(df: pd.DataFrame) -> dict:\n",
    "    food_classes = {}\n",
    "    for _, row in df.iterrows():\n",
    "        food_classes[row['ID']] = FoodClass(row['ID'], row['Name'], row['Impact / kg'], row['Parent ID'])\n",
    "    return food_classes"
   ]
  },
  {
   "cell_type": "markdown",
   "metadata": {},
   "source": [
    "The next cell uses the `build_food_class_hierarchy` function to build the hierarchy and then print the resulting dictionary of `FoodClass` instances."
   ]
  },
  {
   "cell_type": "code",
   "execution_count": 12,
   "metadata": {},
   "outputs": [
    {
     "name": "stdout",
     "output_type": "stream",
     "text": [
      "\n",
      "Food Class Hierarchy:\n",
      "ID: 1, Name: Beef Mince, Impact nan, Parent ID: 2.0\n",
      "ID: 2, Name: Beef, Impact 2.649402237, Parent ID: 3.0\n",
      "ID: 3, Name: Ruminant Meat, Impact 5.508225903, Parent ID: 4.0\n",
      "ID: 4, Name: Meat, Impact 1.310413655, Parent ID: nan\n",
      "ID: 5, Name: Pork Mince, Impact nan, Parent ID: 6.0\n",
      "ID: 6, Name: Pork, Impact nan, Parent ID: 7.0\n",
      "ID: 7, Name: Pork & Poultry, Impact 4.548881992, Parent ID: 4.0\n",
      "ID: 8, Name: Carrots, Impact 9.811717734, Parent ID: 9.0\n",
      "ID: 9, Name: Root Vegetables, Impact 7.781639031, Parent ID: 10.0\n",
      "ID: 10, Name: Vegetables, Impact 3.161091821, Parent ID: nan\n",
      "ID: 11, Name: Onions, Impact 9.000471107, Parent ID: 12.0\n",
      "ID: 12, Name: Onions and Leeks, Impact 4.764500409, Parent ID: 13.0\n",
      "ID: 13, Name: Bulbs, Impact 7.706728936, Parent ID: 10.0\n",
      "ID: 14, Name: Celery, Impact 0.2183862344, Parent ID: 15.0\n",
      "ID: 15, Name: Stem Vegetables, Impact 5.441168674, Parent ID: 10.0\n",
      "ID: 16, Name: Garlic, Impact 4.436081072, Parent ID: 13.0\n",
      "ID: 17, Name: Rosemary, Impact nan, Parent ID: 18.0\n",
      "ID: 18, Name: Herbs, Impact 2.102187648, Parent ID: 19.0\n",
      "ID: 19, Name: Leaves, Impact 4.161051102, Parent ID: 10.0\n",
      "ID: 20, Name: Olive Oil, Impact 8.084466052, Parent ID: 21.0\n",
      "ID: 21, Name: Oils, Impact nan, Parent ID: nan\n",
      "ID: 22, Name: Plum Tomatoes, Impact nan, Parent ID: 23.0\n",
      "ID: 23, Name: Tomatoes, Impact 1.048766001, Parent ID: 24.0\n",
      "ID: 24, Name: Fruit Vegetables, Impact 2.404733034, Parent ID: 10.0\n",
      "ID: 25, Name: Water, Impact 4.992903259, Parent ID: 29.0\n",
      "ID: 26, Name: Red Wine, Impact nan, Parent ID: 27.0\n",
      "ID: 27, Name: Wine, Impact 7.828728036, Parent ID: 28.0\n",
      "ID: 28, Name: Alcoholic Drinks, Impact 0.9766256099, Parent ID: 29.0\n",
      "ID: 29, Name: Drinks, Impact 0.2700475962, Parent ID: nan\n",
      "ID: 30, Name: Spaghetti, Impact nan, Parent ID: 31.0\n",
      "ID: 31, Name: Pasta, Impact nan, Parent ID: 32.0\n",
      "ID: 32, Name: Pasta and Noodles, Impact 7.57055912, Parent ID: 33.0\n",
      "ID: 33, Name: Prepared Meals, Impact nan, Parent ID: nan\n",
      "ID: 34, Name: Chickpeas, Impact 9.761070306, Parent ID: 35.0\n",
      "ID: 35, Name: Pulses, Impact 2.20917018, Parent ID: 36.0\n",
      "ID: 36, Name: Legumes, Impact 0.5138533765, Parent ID: 10.0\n",
      "ID: 37, Name: Coriander, Impact 5.966025323, Parent ID: 18.0\n",
      "ID: 38, Name: Parsley, Impact 0.9610959263, Parent ID: 18.0\n",
      "ID: 39, Name: Red Onions, Impact nan, Parent ID: 11.0\n",
      "ID: 40, Name: Lemon Juice, Impact nan, Parent ID: 41.0\n",
      "ID: 41, Name: Lemons, Impact 8.5744324, Parent ID: 42.0\n",
      "ID: 42, Name: Citrus, Impact 1.122107528, Parent ID: 43.0\n",
      "ID: 43, Name: Fruit, Impact 4.408172499, Parent ID: nan\n",
      "ID: 44, Name: Harissa, Impact nan, Parent ID: 45.0\n",
      "ID: 45, Name: Spices, Impact 3.882260797, Parent ID: 46.0\n",
      "ID: 46, Name: Spices and Seasonings, Impact nan, Parent ID: nan\n",
      "ID: 47, Name: Double Cream, Impact 1.29342412, Parent ID: 48.0\n",
      "ID: 48, Name: Cream, Impact 4.027040964, Parent ID: 49.0\n",
      "ID: 49, Name: Dairy, Impact nan, Parent ID: nan\n",
      "ID: 50, Name: Mascarpone, Impact 6.404843943, Parent ID: 51.0\n",
      "ID: 51, Name: Cheese, Impact 4.662044875, Parent ID: 49.0\n",
      "ID: 52, Name: Marsala, Impact 2.842286935, Parent ID: 53.0\n",
      "ID: 53, Name: Spirits, Impact nan, Parent ID: 28.0\n",
      "ID: 54, Name: Golden Caster Sugar, Impact nan, Parent ID: 55.0\n",
      "ID: 55, Name: Caster Sugar, Impact nan, Parent ID: 56.0\n",
      "ID: 56, Name: Sugar, Impact 4.546019718, Parent ID: 57.0\n",
      "ID: 57, Name: Seasonings, Impact nan, Parent ID: 46.0\n",
      "ID: 58, Name: Coffee Granules, Impact nan, Parent ID: 59.0\n",
      "ID: 59, Name: Coffee, Impact 4.910862654, Parent ID: 60.0\n",
      "ID: 60, Name: Hot Drinks, Impact nan, Parent ID: 29.0\n",
      "ID: 61, Name: Lady Fingers, Impact nan, Parent ID: 62.0\n",
      "ID: 62, Name: Biscuits, Impact nan, Parent ID: 63.0\n",
      "ID: 63, Name: Snacks, Impact 2.496939229, Parent ID: nan\n",
      "ID: 64, Name: Dark Chocolate, Impact 7.423826904, Parent ID: 65.0\n",
      "ID: 65, Name: Chocolate, Impact 8.34796857, Parent ID: 66.0\n",
      "ID: 66, Name: Bars, Impact nan, Parent ID: 63.0\n",
      "ID: 67, Name: Cocoa Powder, Impact nan, Parent ID: 68.0\n",
      "ID: 68, Name: Cocoa Beans, Impact 2.958116399, Parent ID: 69.0\n",
      "ID: 69, Name: Seeds, Impact 0.5706210838, Parent ID: 70.0\n",
      "ID: 70, Name: Nuts and Seeds, Impact 3.171540022, Parent ID: nan\n",
      "ID: 71, Name: Tinned Plum Tomatoes, Impact nan, Parent ID: 22.0\n"
     ]
    }
   ],
   "source": [
    "food_classes = build_food_class_hierarchy(food_classes_df_dummy)\n",
    "print('\\nFood Class Hierarchy:')\n",
    "for class_id, food_class in food_classes.items():\n",
    "    print(f'ID: {food_class.id}, Name: {food_class.name}, Impact {food_class.impact}, Parent ID: {food_class.parent_id}')"
   ]
  },
  {
   "cell_type": "markdown",
   "metadata": {},
   "source": [
    "#### Why not a `DataFrame`?\n",
    "Using a class like FoodClass rather than just a DataFrame provides several benefits, especially when representing a hierarchical structure, such as a tree. Here are some reasons why this approach is advantageous:\n",
    "1. **Encapsulation of Data and Behaviour**: The `FoodClass` class allows to encapsulate not only data but also methods that operate on this data. For example, if I wanted to add a specific behaviour or method related to a `FoodClass`, this can be done within the class. This organisation keeps related data and behaviours together, improving the readability and maintainability.\n",
    "2. **Ease of Recursion and Hierarchical Structure**: A class-based structure is easier to manage when dealing with parent-child relationships. In this setup, each `FoodClass` object can be accessed and referenced independently. By storing each `FoodClass` instance in a dictionary, it is possible to retrive an instance by its `id` or `parent_id` and performe recursive operations. Handling the hierarchy using a class-based structure makes it easier to add specific methods for navigation, comparison, or aggregation that might not be as straightforward with a flat `DataFrame`.\n",
    "3. **Improved Code Clarity**: It helps prevent errors when accessing attributes because each instance has well-defined fields. With a DataFrame doesn’t technically restrict to a specific schema, making it more prone to errors if column names or types are misused.\n",
    "4. **Flexibility**: The class structure provides higher flexibility if the `FoodClass` has to be extended with more complex logic or additional attributes. For example, if you need to include methods that calculate certain values or manage additional relationships, it’s easier to add them to the `FoodClass` than to a DataFrame.\n",
    "5. **Optimisation for Large Datasets**: While `DataFrames` are optimised for vectorised operations, navigating a hierarchical structure within a `DataFrame` can be slower and clunky, particularly if recursive lookups are involved. Using a dictionary of `FoodClass` instances allows for fast, direct access to specific nodes, which can make recursive operations more efficient."
   ]
  },
  {
   "cell_type": "markdown",
   "metadata": {},
   "source": [
    "#### Example 1 - Retrive the Parent Class Dicitionary vs DataFrame\n",
    "If you want to retrieve the parent class of a given food class, you can easily do this with a dictionary:"
   ]
  },
  {
   "cell_type": "code",
   "execution_count": 13,
   "metadata": {},
   "outputs": [],
   "source": [
    "food_classes_example = {\n",
    "    1: FoodClass(id=1, name='Grains', impact=2.5, parent_id=None),\n",
    "    2: FoodClass(id=2, name='Rice', impact=None, parent_id=1),\n",
    "    3: FoodClass(id=3, name='Wheat', impact=1.5, parent_id=1),\n",
    "    4: FoodClass(id=4, name='White Rice', impact=3.0, parent_id=2)\n",
    "}\n",
    "\n",
    "def get_parent(food_class_id):\n",
    "    food_class = food_classes_example.get(food_class_id)\n",
    "    if food_class:\n",
    "        return food_classes_example.get(food_class.parent_id)"
   ]
  },
  {
   "cell_type": "code",
   "execution_count": 14,
   "metadata": {},
   "outputs": [
    {
     "name": "stdout",
     "output_type": "stream",
     "text": [
      "Parent of White Rice is Rice\n"
     ]
    }
   ],
   "source": [
    "parent_class = get_parent(4)\n",
    "if parent_class:\n",
    "    print(f\"Parent of White Rice is {parent_class.name}\")\n",
    "else:\n",
    "    print(\"White Rice has no parent.\")"
   ]
  },
  {
   "cell_type": "markdown",
   "metadata": {},
   "source": [
    "Now with a `DataFrame`:"
   ]
  },
  {
   "cell_type": "code",
   "execution_count": 15,
   "metadata": {},
   "outputs": [],
   "source": [
    "data_example = {\n",
    "    'ID': [1, 2, 3, 4],\n",
    "    'Name': ['Grains', 'Rice', 'Wheat', 'White Rice'],\n",
    "    'Impact': [2.5, None, 1.5, 3.0],\n",
    "    'Parent ID': [None, 1, 1, 2]\n",
    "}\n",
    "\n",
    "df_example = pd.DataFrame(data_example)\n",
    "\n",
    "def get_parent_row(food_class_id, df):\n",
    "    # Get the parent ID for the specified food class\n",
    "    parent_id = df.loc[df['ID'] == food_class_id, 'Parent ID'].values[0]\n",
    "    \n",
    "    # Retrieve the row where 'ID' matches the parent ID\n",
    "    if pd.notna(parent_id):\n",
    "        parent_row = df[df['ID'] == parent_id]\n",
    "        return parent_row\n",
    "    else:\n",
    "       return None"
   ]
  },
  {
   "cell_type": "code",
   "execution_count": 16,
   "metadata": {},
   "outputs": [
    {
     "name": "stdout",
     "output_type": "stream",
     "text": [
      "   ID  Name  Impact  Parent ID\n",
      "1   2  Rice     NaN        1.0\n"
     ]
    }
   ],
   "source": [
    "parent_row = get_parent_row(4, df_example)\n",
    "print(parent_row)"
   ]
  },
  {
   "cell_type": "markdown",
   "metadata": {},
   "source": [
    "#### Example 2 - Traverse Up the Hierarchy \n",
    "If you want to retrieve the entire chain of parent classes up to the root for a given food class, you can use a loop or recursive function."
   ]
  },
  {
   "cell_type": "code",
   "execution_count": 17,
   "metadata": {},
   "outputs": [],
   "source": [
    "def get_ancestor_chain(food_class_id):\n",
    "    current_id = food_class_id\n",
    "    ancestors = []\n",
    "    \n",
    "    while current_id is not None:\n",
    "        parent = get_parent(current_id)\n",
    "        if parent is not None:\n",
    "            ancestors.append(parent.name)\n",
    "            current_id = parent.id  # Move up to the next ancestor\n",
    "        else:\n",
    "            current_id = None  # Stop when there is no parent left    \n",
    "    return ancestors"
   ]
  },
  {
   "cell_type": "code",
   "execution_count": 18,
   "metadata": {},
   "outputs": [
    {
     "name": "stdout",
     "output_type": "stream",
     "text": [
      "Ancestor chain for White Rice: Rice -> Grains\n"
     ]
    }
   ],
   "source": [
    "# Get the ancestor chain for \"White Rice\" (ID 4)\n",
    "ancestors = get_ancestor_chain(4)\n",
    "print(\"Ancestor chain for White Rice:\", \" -> \".join(ancestors))"
   ]
  },
  {
   "cell_type": "markdown",
   "metadata": {},
   "source": [
    "Now with a `DataFrame`:"
   ]
  },
  {
   "cell_type": "code",
   "execution_count": 19,
   "metadata": {},
   "outputs": [],
   "source": [
    "def get_ancestor_chain(food_class_id, df):\n",
    "    current_id = food_class_id\n",
    "    ancestors = []\n",
    "    \n",
    "    while current_id is not None:\n",
    "        parent_row = get_parent_row(current_id, df)\n",
    "        \n",
    "        if parent_row is not None and not parent_row.empty:\n",
    "            parent_name = parent_row['Name'].values[0]\n",
    "            ancestors.append(parent_name)\n",
    "            current_id = parent_row['ID'].values[0]  # Move to the next ancestor ID\n",
    "        else:\n",
    "            current_id = None  # Stop when there is no parent left\n",
    "    return ancestors"
   ]
  },
  {
   "cell_type": "code",
   "execution_count": 20,
   "metadata": {},
   "outputs": [
    {
     "name": "stdout",
     "output_type": "stream",
     "text": [
      "Ancestor chain for White Rice: Rice -> Grains\n"
     ]
    }
   ],
   "source": [
    "# Example: Get the ancestor chain for White Rice (ID 4)\n",
    "ancestors = get_ancestor_chain(4, df_example)\n",
    "print(\"Ancestor chain for White Rice:\", \" -> \".join(ancestors))"
   ]
  },
  {
   "cell_type": "markdown",
   "metadata": {},
   "source": [
    "#### Example 3 - New Instance in the Dictionary\n",
    "To add a new food class to the existing hierarchy it can be done by creating a new instance of `FoodClass` and then add it to the `food_classes` dictionary with a unique ID."
   ]
  },
  {
   "cell_type": "code",
   "execution_count": 21,
   "metadata": {},
   "outputs": [
    {
     "name": "stdout",
     "output_type": "stream",
     "text": [
      "Added new food class: ID = 72, Name = Orange, Impact = 0.3, Parent ID = 1\n",
      "\n",
      "Updated Food Class Hierarchy:\n",
      "ID: 1, Name: Beef Mince, Impact: nan, Parent ID: 2.0\n",
      "ID: 2, Name: Beef, Impact: 2.649402237, Parent ID: 3.0\n",
      "ID: 3, Name: Ruminant Meat, Impact: 5.508225903, Parent ID: 4.0\n",
      "ID: 4, Name: Meat, Impact: 1.310413655, Parent ID: nan\n",
      "ID: 5, Name: Pork Mince, Impact: nan, Parent ID: 6.0\n",
      "ID: 6, Name: Pork, Impact: nan, Parent ID: 7.0\n",
      "ID: 7, Name: Pork & Poultry, Impact: 4.548881992, Parent ID: 4.0\n",
      "ID: 8, Name: Carrots, Impact: 9.811717734, Parent ID: 9.0\n",
      "ID: 9, Name: Root Vegetables, Impact: 7.781639031, Parent ID: 10.0\n",
      "ID: 10, Name: Vegetables, Impact: 3.161091821, Parent ID: nan\n",
      "ID: 11, Name: Onions, Impact: 9.000471107, Parent ID: 12.0\n",
      "ID: 12, Name: Onions and Leeks, Impact: 4.764500409, Parent ID: 13.0\n",
      "ID: 13, Name: Bulbs, Impact: 7.706728936, Parent ID: 10.0\n",
      "ID: 14, Name: Celery, Impact: 0.2183862344, Parent ID: 15.0\n",
      "ID: 15, Name: Stem Vegetables, Impact: 5.441168674, Parent ID: 10.0\n",
      "ID: 16, Name: Garlic, Impact: 4.436081072, Parent ID: 13.0\n",
      "ID: 17, Name: Rosemary, Impact: nan, Parent ID: 18.0\n",
      "ID: 18, Name: Herbs, Impact: 2.102187648, Parent ID: 19.0\n",
      "ID: 19, Name: Leaves, Impact: 4.161051102, Parent ID: 10.0\n",
      "ID: 20, Name: Olive Oil, Impact: 8.084466052, Parent ID: 21.0\n",
      "ID: 21, Name: Oils, Impact: nan, Parent ID: nan\n",
      "ID: 22, Name: Plum Tomatoes, Impact: nan, Parent ID: 23.0\n",
      "ID: 23, Name: Tomatoes, Impact: 1.048766001, Parent ID: 24.0\n",
      "ID: 24, Name: Fruit Vegetables, Impact: 2.404733034, Parent ID: 10.0\n",
      "ID: 25, Name: Water, Impact: 4.992903259, Parent ID: 29.0\n",
      "ID: 26, Name: Red Wine, Impact: nan, Parent ID: 27.0\n",
      "ID: 27, Name: Wine, Impact: 7.828728036, Parent ID: 28.0\n",
      "ID: 28, Name: Alcoholic Drinks, Impact: 0.9766256099, Parent ID: 29.0\n",
      "ID: 29, Name: Drinks, Impact: 0.2700475962, Parent ID: nan\n",
      "ID: 30, Name: Spaghetti, Impact: nan, Parent ID: 31.0\n",
      "ID: 31, Name: Pasta, Impact: nan, Parent ID: 32.0\n",
      "ID: 32, Name: Pasta and Noodles, Impact: 7.57055912, Parent ID: 33.0\n",
      "ID: 33, Name: Prepared Meals, Impact: nan, Parent ID: nan\n",
      "ID: 34, Name: Chickpeas, Impact: 9.761070306, Parent ID: 35.0\n",
      "ID: 35, Name: Pulses, Impact: 2.20917018, Parent ID: 36.0\n",
      "ID: 36, Name: Legumes, Impact: 0.5138533765, Parent ID: 10.0\n",
      "ID: 37, Name: Coriander, Impact: 5.966025323, Parent ID: 18.0\n",
      "ID: 38, Name: Parsley, Impact: 0.9610959263, Parent ID: 18.0\n",
      "ID: 39, Name: Red Onions, Impact: nan, Parent ID: 11.0\n",
      "ID: 40, Name: Lemon Juice, Impact: nan, Parent ID: 41.0\n",
      "ID: 41, Name: Lemons, Impact: 8.5744324, Parent ID: 42.0\n",
      "ID: 42, Name: Citrus, Impact: 1.122107528, Parent ID: 43.0\n",
      "ID: 43, Name: Fruit, Impact: 4.408172499, Parent ID: nan\n",
      "ID: 44, Name: Harissa, Impact: nan, Parent ID: 45.0\n",
      "ID: 45, Name: Spices, Impact: 3.882260797, Parent ID: 46.0\n",
      "ID: 46, Name: Spices and Seasonings, Impact: nan, Parent ID: nan\n",
      "ID: 47, Name: Double Cream, Impact: 1.29342412, Parent ID: 48.0\n",
      "ID: 48, Name: Cream, Impact: 4.027040964, Parent ID: 49.0\n",
      "ID: 49, Name: Dairy, Impact: nan, Parent ID: nan\n",
      "ID: 50, Name: Mascarpone, Impact: 6.404843943, Parent ID: 51.0\n",
      "ID: 51, Name: Cheese, Impact: 4.662044875, Parent ID: 49.0\n",
      "ID: 52, Name: Marsala, Impact: 2.842286935, Parent ID: 53.0\n",
      "ID: 53, Name: Spirits, Impact: nan, Parent ID: 28.0\n",
      "ID: 54, Name: Golden Caster Sugar, Impact: nan, Parent ID: 55.0\n",
      "ID: 55, Name: Caster Sugar, Impact: nan, Parent ID: 56.0\n",
      "ID: 56, Name: Sugar, Impact: 4.546019718, Parent ID: 57.0\n",
      "ID: 57, Name: Seasonings, Impact: nan, Parent ID: 46.0\n",
      "ID: 58, Name: Coffee Granules, Impact: nan, Parent ID: 59.0\n",
      "ID: 59, Name: Coffee, Impact: 4.910862654, Parent ID: 60.0\n",
      "ID: 60, Name: Hot Drinks, Impact: nan, Parent ID: 29.0\n",
      "ID: 61, Name: Lady Fingers, Impact: nan, Parent ID: 62.0\n",
      "ID: 62, Name: Biscuits, Impact: nan, Parent ID: 63.0\n",
      "ID: 63, Name: Snacks, Impact: 2.496939229, Parent ID: nan\n",
      "ID: 64, Name: Dark Chocolate, Impact: 7.423826904, Parent ID: 65.0\n",
      "ID: 65, Name: Chocolate, Impact: 8.34796857, Parent ID: 66.0\n",
      "ID: 66, Name: Bars, Impact: nan, Parent ID: 63.0\n",
      "ID: 67, Name: Cocoa Powder, Impact: nan, Parent ID: 68.0\n",
      "ID: 68, Name: Cocoa Beans, Impact: 2.958116399, Parent ID: 69.0\n",
      "ID: 69, Name: Seeds, Impact: 0.5706210838, Parent ID: 70.0\n",
      "ID: 70, Name: Nuts and Seeds, Impact: 3.171540022, Parent ID: nan\n",
      "ID: 71, Name: Tinned Plum Tomatoes, Impact: nan, Parent ID: 22.0\n",
      "ID: 72, Name: Orange, Impact: 0.3, Parent ID: 1\n"
     ]
    }
   ],
   "source": [
    "new_food_class_id = 72\n",
    "new_food_class_name = \"Orange\"\n",
    "new_food_class_impact = 0.3  \n",
    "new_food_class_parent_id = 1 \n",
    "\n",
    "# Create a new FoodClass instance\n",
    "new_food_class = FoodClass(new_food_class_id, new_food_class_name, new_food_class_impact, new_food_class_parent_id)\n",
    "\n",
    "# Add it to the food_classes dictionary\n",
    "food_classes[new_food_class_id] = new_food_class\n",
    "\n",
    "# Verify the new class was added\n",
    "print(f\"Added new food class: ID = {new_food_class.id}, Name = {new_food_class.name}, \"\n",
    "      f\"Impact = {new_food_class.impact}, Parent ID = {new_food_class.parent_id}\")\n",
    "\n",
    "# Display the updated food_classes dictionary\n",
    "print(\"\\nUpdated Food Class Hierarchy:\")\n",
    "for class_id, food_class in food_classes.items():\n",
    "    print(f\"ID: {food_class.id}, Name: {food_class.name}, Impact: {food_class.impact}, Parent ID: {food_class.parent_id}\")"
   ]
  },
  {
   "cell_type": "markdown",
   "metadata": {},
   "source": [
    "## Step 4: Recursive Impact Retrival\n",
    "The `get_impact` function is the key to finding the CO2 impact of a given food class. Here's how it works:\n",
    "1. Checck if the requested food class ID is in the `food_classes` dictionary.\n",
    "2. If the class has a defined `impact` (i.e., it's not `NaN`), the function returns the impact.\n",
    "3. If the class doesn't have an impact but has a `parent_id` the cunction calls itself recursively with the parent's ID.\n",
    "\n",
    "This recursion continues until one of two conditions is met:\n",
    "- An impact value is found and returned\n",
    "- The recursion reaches a root node (a food class with no parent) that has no impact. If this happens, a `ValueError` is raised, indicating that the impact could not be determined for the ingredient"
   ]
  },
  {
   "cell_type": "code",
   "execution_count": 22,
   "metadata": {},
   "outputs": [],
   "source": [
    "def get_impact(food_class_id: int) -> float:\n",
    "    food_class = food_classes.get(food_class_id)\n",
    "    if not food_class:\n",
    "        raise ValueError(f\"No food class found for ID {food_class_id}\")\n",
    "    if not pd.isna(food_class.impact):\n",
    "        return food_class.impact\n",
    "    if pd.isna(food_class.parent_id):\n",
    "        raise ValueError(f\"No impact available and no parent to recurse for {food_class.name}\")\n",
    "    return get_impact(food_class.parent_id)"
   ]
  },
  {
   "cell_type": "markdown",
   "metadata": {},
   "source": [
    "Example of using the function with different food class IDs."
   ]
  },
  {
   "cell_type": "code",
   "execution_count": 23,
   "metadata": {},
   "outputs": [
    {
     "name": "stdout",
     "output_type": "stream",
     "text": [
      "Food Class ID 2: Impact = 2.649402237 kg CO2\n",
      "Food Class ID 17: Impact = 2.102187648 kg CO2\n",
      "Food Class ID 32: Impact = 7.57055912 kg CO2\n",
      "Food Class ID 70: Impact = 3.171540022 kg CO2\n"
     ]
    }
   ],
   "source": [
    "test_ids = [2, 17, 32, 70] \n",
    "\n",
    "for food_class_id in test_ids:\n",
    "    try:\n",
    "        impact = get_impact(food_class_id)\n",
    "        print(f\"Food Class ID {food_class_id}: Impact = {impact} kg CO2\")\n",
    "    except ValueError as e:\n",
    "        print(f\"Food Class ID {food_class_id}: {e}\")"
   ]
  },
  {
   "cell_type": "markdown",
   "metadata": {},
   "source": [
    "## Step 5: Recipe Calculator\n",
    "The next function calculates the total CO₂ impact of a recipe by summing the impacts of its ingredients.\n",
    "- **`recipe.iterrows()`**: Iterates over each row in the recipe DataFrame.\n",
    "- **Ingredient Matching**: Normalises the ingredient’s name, then searches for a matching food class name within `food_classes`.\n",
    "- **Impact Calculation**: Uses the `get_impact` function to find the CO₂ impact of the ingredient’s food class, then multiplies it by the ingredient’s weight and accumulates it in `total_impact`.\n",
    "- **Error Handling**: If an ingredient is not found or impact cannot be calculated, the function prints an error message and returns `None`."
   ]
  },
  {
   "cell_type": "code",
   "execution_count": 24,
   "metadata": {},
   "outputs": [],
   "source": [
    "def calculate_recipe_impact(recipe: pd.DataFrame) -> float:\n",
    "    total_impact = 0\n",
    "    matched_classes = []\n",
    "    for _, ingredient in recipe.iterrows():\n",
    "        ingredient_name = normalize_name(ingredient['Ingredient Name'])\n",
    "        matched_class = next(\n",
    "            (fc for fc in food_classes.values() if normalize_name(fc.name) == ingredient_name), None)\n",
    "        if not matched_class:\n",
    "            print(f\"Recipe ID {recipe_id} - {recipe_name}: Ingredient '{ingredient_name}' not found.\")\n",
    "            return None\n",
    "        # Store the matched class for visualization\n",
    "        matched_classes.append((ingredient_name, matched_class.name))\n",
    "        try:\n",
    "            impact = get_impact(matched_class.id)\n",
    "            total_impact += impact * ingredient['Ingredient Weight / kg']\n",
    "        except ValueError as e:\n",
    "            print(e)\n",
    "            return None\n",
    "    matched_df = pd.DataFrame(matched_classes)\n",
    "    display(matched_df)\n",
    "    return total_impact"
   ]
  },
  {
   "cell_type": "markdown",
   "metadata": {},
   "source": [
    "The most intricated part of the function above is matching the ingredient names with the corresponding food classes. Here is a more detailed explanation:\n",
    "1. `for _, ingredient in recipe.iterrows()`: This loop iterates over each row in the recipe DataFrame.\n",
    "    - `iterrows()` is a method provided by pandas to iterate over DataFrame rows as (index, Series) pairs.\n",
    "    - Here, `_` is used as a placeholder for the index (since it’s not needed in this context), and `ingredient` represents each row (as a pandas Series object) containing data about an individual ingredient in the recipe.\n",
    "\n",
    "2. `ingredient_name = normalize_name(ingredient['Ingredient Name'])`: This line retrieves the 'Ingredient Name' from the current ingredient row and then applies the `normalize_name` function to it.\n",
    "\n",
    "3. `matched_class = next((fc for fc in food_classes.values() if normalize_name(fc.name) == ingredient_name), None)`: This line is attempting to find a matching food class for the current ingredient.\n",
    "    - `food_classes` is a dictionary where each value is a FoodClass object, and `food_classes.values()` returns a view of the objects themselves.\n",
    "    - The code uses a generator expression `(fc for fc in food_classes.values() if normalize_name(fc.name) == ingredient_name)`, which iterates over each `FoodClass` object fc in the dictionary and applies `normalize_name(fc.name)` to normalise the class name.\n",
    "    - It checks if this normalised class name is equal to the `ingredient_name` (the normalized name of the ingredient).\n",
    "    - `next(..., None)` retrieves the first `FoodClass` object that matches the `ingredient_name` condition. If no match is found, `None` is returned.\n",
    "\n",
    "3. `if not matched_class`: This line checks if `matched_class` is None, which indicates that no matching food class was found for the current ingredient. If no match is found, it prints an error message and it returns `None`, indicating that the function couldn’t complete the recipe impact calculation because one of the ingredients couldn’t be matched to a food class."
   ]
  },
  {
   "cell_type": "code",
   "execution_count": 25,
   "metadata": {},
   "outputs": [
    {
     "data": {
      "text/html": [
       "<div>\n",
       "<style scoped>\n",
       "    .dataframe tbody tr th:only-of-type {\n",
       "        vertical-align: middle;\n",
       "    }\n",
       "\n",
       "    .dataframe tbody tr th {\n",
       "        vertical-align: top;\n",
       "    }\n",
       "\n",
       "    .dataframe thead th {\n",
       "        text-align: right;\n",
       "    }\n",
       "</style>\n",
       "<table border=\"1\" class=\"dataframe\">\n",
       "  <thead>\n",
       "    <tr style=\"text-align: right;\">\n",
       "      <th></th>\n",
       "      <th>0</th>\n",
       "      <th>1</th>\n",
       "    </tr>\n",
       "  </thead>\n",
       "  <tbody>\n",
       "    <tr>\n",
       "      <th>0</th>\n",
       "      <td>beef mince</td>\n",
       "      <td>Beef Mince</td>\n",
       "    </tr>\n",
       "    <tr>\n",
       "      <th>1</th>\n",
       "      <td>mince pork</td>\n",
       "      <td>Pork Mince</td>\n",
       "    </tr>\n",
       "    <tr>\n",
       "      <th>2</th>\n",
       "      <td>carrots</td>\n",
       "      <td>Carrots</td>\n",
       "    </tr>\n",
       "    <tr>\n",
       "      <th>3</th>\n",
       "      <td>onions</td>\n",
       "      <td>Onions</td>\n",
       "    </tr>\n",
       "    <tr>\n",
       "      <th>4</th>\n",
       "      <td>celery</td>\n",
       "      <td>Celery</td>\n",
       "    </tr>\n",
       "    <tr>\n",
       "      <th>5</th>\n",
       "      <td>garlic</td>\n",
       "      <td>Garlic</td>\n",
       "    </tr>\n",
       "    <tr>\n",
       "      <th>6</th>\n",
       "      <td>rosemary</td>\n",
       "      <td>Rosemary</td>\n",
       "    </tr>\n",
       "    <tr>\n",
       "      <th>7</th>\n",
       "      <td>oil olive</td>\n",
       "      <td>Olive Oil</td>\n",
       "    </tr>\n",
       "    <tr>\n",
       "      <th>8</th>\n",
       "      <td>plum tinned tomatoes</td>\n",
       "      <td>Tinned Plum Tomatoes</td>\n",
       "    </tr>\n",
       "    <tr>\n",
       "      <th>9</th>\n",
       "      <td>water</td>\n",
       "      <td>Water</td>\n",
       "    </tr>\n",
       "    <tr>\n",
       "      <th>10</th>\n",
       "      <td>red wine</td>\n",
       "      <td>Red Wine</td>\n",
       "    </tr>\n",
       "    <tr>\n",
       "      <th>11</th>\n",
       "      <td>spaghetti</td>\n",
       "      <td>Spaghetti</td>\n",
       "    </tr>\n",
       "  </tbody>\n",
       "</table>\n",
       "</div>"
      ],
      "text/plain": [
       "                       0                     1\n",
       "0             beef mince            Beef Mince\n",
       "1             mince pork            Pork Mince\n",
       "2                carrots               Carrots\n",
       "3                 onions                Onions\n",
       "4                 celery                Celery\n",
       "5                 garlic                Garlic\n",
       "6               rosemary              Rosemary\n",
       "7              oil olive             Olive Oil\n",
       "8   plum tinned tomatoes  Tinned Plum Tomatoes\n",
       "9                  water                 Water\n",
       "10              red wine              Red Wine\n",
       "11             spaghetti             Spaghetti"
      ]
     },
     "metadata": {},
     "output_type": "display_data"
    },
    {
     "name": "stdout",
     "output_type": "stream",
     "text": [
      "Recipe ID 1 - Spaghetti Bolognese: Total Impact = 13.989865665656001 kg CO2\n"
     ]
    },
    {
     "data": {
      "text/html": [
       "<div>\n",
       "<style scoped>\n",
       "    .dataframe tbody tr th:only-of-type {\n",
       "        vertical-align: middle;\n",
       "    }\n",
       "\n",
       "    .dataframe tbody tr th {\n",
       "        vertical-align: top;\n",
       "    }\n",
       "\n",
       "    .dataframe thead th {\n",
       "        text-align: right;\n",
       "    }\n",
       "</style>\n",
       "<table border=\"1\" class=\"dataframe\">\n",
       "  <thead>\n",
       "    <tr style=\"text-align: right;\">\n",
       "      <th></th>\n",
       "      <th>0</th>\n",
       "      <th>1</th>\n",
       "    </tr>\n",
       "  </thead>\n",
       "  <tbody>\n",
       "    <tr>\n",
       "      <th>0</th>\n",
       "      <td>cream double</td>\n",
       "      <td>Double Cream</td>\n",
       "    </tr>\n",
       "    <tr>\n",
       "      <th>1</th>\n",
       "      <td>mascarpone</td>\n",
       "      <td>Mascarpone</td>\n",
       "    </tr>\n",
       "    <tr>\n",
       "      <th>2</th>\n",
       "      <td>marsala</td>\n",
       "      <td>Marsala</td>\n",
       "    </tr>\n",
       "    <tr>\n",
       "      <th>3</th>\n",
       "      <td>caster golden sugar</td>\n",
       "      <td>Golden Caster Sugar</td>\n",
       "    </tr>\n",
       "    <tr>\n",
       "      <th>4</th>\n",
       "      <td>coffee granules</td>\n",
       "      <td>Coffee Granules</td>\n",
       "    </tr>\n",
       "    <tr>\n",
       "      <th>5</th>\n",
       "      <td>water</td>\n",
       "      <td>Water</td>\n",
       "    </tr>\n",
       "    <tr>\n",
       "      <th>6</th>\n",
       "      <td>fingers lady</td>\n",
       "      <td>Lady Fingers</td>\n",
       "    </tr>\n",
       "    <tr>\n",
       "      <th>7</th>\n",
       "      <td>chocolate dark</td>\n",
       "      <td>Dark Chocolate</td>\n",
       "    </tr>\n",
       "    <tr>\n",
       "      <th>8</th>\n",
       "      <td>cocoa powder</td>\n",
       "      <td>Cocoa Powder</td>\n",
       "    </tr>\n",
       "  </tbody>\n",
       "</table>\n",
       "</div>"
      ],
      "text/plain": [
       "                     0                    1\n",
       "0         cream double         Double Cream\n",
       "1           mascarpone           Mascarpone\n",
       "2              marsala              Marsala\n",
       "3  caster golden sugar  Golden Caster Sugar\n",
       "4      coffee granules      Coffee Granules\n",
       "5                water                Water\n",
       "6         fingers lady         Lady Fingers\n",
       "7       chocolate dark       Dark Chocolate\n",
       "8         cocoa powder         Cocoa Powder"
      ]
     },
     "metadata": {},
     "output_type": "display_data"
    },
    {
     "name": "stdout",
     "output_type": "stream",
     "text": [
      "Recipe ID 2 - Tiramisu: Total Impact = 4.8948132164 kg CO2\n"
     ]
    },
    {
     "data": {
      "text/html": [
       "<div>\n",
       "<style scoped>\n",
       "    .dataframe tbody tr th:only-of-type {\n",
       "        vertical-align: middle;\n",
       "    }\n",
       "\n",
       "    .dataframe tbody tr th {\n",
       "        vertical-align: top;\n",
       "    }\n",
       "\n",
       "    .dataframe thead th {\n",
       "        text-align: right;\n",
       "    }\n",
       "</style>\n",
       "<table border=\"1\" class=\"dataframe\">\n",
       "  <thead>\n",
       "    <tr style=\"text-align: right;\">\n",
       "      <th></th>\n",
       "      <th>0</th>\n",
       "      <th>1</th>\n",
       "    </tr>\n",
       "  </thead>\n",
       "  <tbody>\n",
       "    <tr>\n",
       "      <th>0</th>\n",
       "      <td>chickpeas</td>\n",
       "      <td>Chickpeas</td>\n",
       "    </tr>\n",
       "    <tr>\n",
       "      <th>1</th>\n",
       "      <td>coriander</td>\n",
       "      <td>Coriander</td>\n",
       "    </tr>\n",
       "    <tr>\n",
       "      <th>2</th>\n",
       "      <td>parsley</td>\n",
       "      <td>Parsley</td>\n",
       "    </tr>\n",
       "    <tr>\n",
       "      <th>3</th>\n",
       "      <td>onions red</td>\n",
       "      <td>Red Onions</td>\n",
       "    </tr>\n",
       "    <tr>\n",
       "      <th>4</th>\n",
       "      <td>tomatoes</td>\n",
       "      <td>Tomatoes</td>\n",
       "    </tr>\n",
       "    <tr>\n",
       "      <th>5</th>\n",
       "      <td>oil olive</td>\n",
       "      <td>Olive Oil</td>\n",
       "    </tr>\n",
       "    <tr>\n",
       "      <th>6</th>\n",
       "      <td>juice lemon</td>\n",
       "      <td>Lemon Juice</td>\n",
       "    </tr>\n",
       "    <tr>\n",
       "      <th>7</th>\n",
       "      <td>harissa</td>\n",
       "      <td>Harissa</td>\n",
       "    </tr>\n",
       "  </tbody>\n",
       "</table>\n",
       "</div>"
      ],
      "text/plain": [
       "             0            1\n",
       "0    chickpeas    Chickpeas\n",
       "1    coriander    Coriander\n",
       "2      parsley      Parsley\n",
       "3   onions red   Red Onions\n",
       "4     tomatoes     Tomatoes\n",
       "5    oil olive    Olive Oil\n",
       "6  juice lemon  Lemon Juice\n",
       "7      harissa      Harissa"
      ]
     },
     "metadata": {},
     "output_type": "display_data"
    },
    {
     "name": "stdout",
     "output_type": "stream",
     "text": [
      "Recipe ID 3 - Chickpea Salad: Total Impact = 11.188634844578 kg CO2\n",
      "Recipe ID 4 - Salted Caramel Ice Cream: Ingredient 'gum xanthum' not found.\n"
     ]
    }
   ],
   "source": [
    "for recipe_id, recipe_data in recipes_df.groupby('Recipe ID'):\n",
    "    recipe_name = recipe_data['Recipe Name'].iloc[0]  # Get the recipe name\n",
    "    impact = calculate_recipe_impact(recipe_data)\n",
    "    if impact is not None:\n",
    "        print(f\"Recipe ID {recipe_id} - {recipe_name}: Total Impact = {impact} kg CO2\")"
   ]
  },
  {
   "cell_type": "markdown",
   "metadata": {},
   "source": [
    "#### Final Function"
   ]
  },
  {
   "cell_type": "code",
   "execution_count": 26,
   "metadata": {},
   "outputs": [],
   "source": [
    "def calculate_recipe_impact_2(recipe: pd.DataFrame) -> float:\n",
    "    total_impact = 0\n",
    "    for _, ingredient in recipe.iterrows():\n",
    "        ingredient_name = normalize_name(ingredient['Ingredient Name'])\n",
    "        matched_class = next(\n",
    "            (fc for fc in food_classes.values() if normalize_name(fc.name) == ingredient_name), None)\n",
    "        if not matched_class:\n",
    "            print(f\"Ingredient '{ingredient_name}' not found.\")\n",
    "            return None\n",
    "        try:\n",
    "            impact = get_impact(matched_class.id)\n",
    "            total_impact += impact * ingredient['Ingredient Weight / kg']\n",
    "        except ValueError as e:\n",
    "            print(e)\n",
    "            return None\n",
    "    return total_impact"
   ]
  },
  {
   "cell_type": "code",
   "execution_count": 27,
   "metadata": {},
   "outputs": [
    {
     "name": "stdout",
     "output_type": "stream",
     "text": [
      "Recipe ID 1 - Spaghetti Bolognese: Total Impact = 13.989865665656001 kg CO2\n",
      "Recipe ID 2 - Tiramisu: Total Impact = 4.8948132164 kg CO2\n",
      "Recipe ID 3 - Chickpea Salad: Total Impact = 11.188634844578 kg CO2\n",
      "Ingredient 'gum xanthum' not found.\n"
     ]
    }
   ],
   "source": [
    "for recipe_id, recipe_data in recipes_df_dummy.groupby('Recipe ID'):\n",
    "    recipe_name = recipe_data['Recipe Name'].iloc[0]  # Get the recipe name\n",
    "    impact = calculate_recipe_impact_2(recipe_data)\n",
    "    if impact is not None:\n",
    "        print(f\"Recipe ID {recipe_id} - {recipe_name}: Total Impact = {impact} kg CO2\")"
   ]
  },
  {
   "cell_type": "markdown",
   "metadata": {},
   "source": [
    "#### Alernative method - Fuzzy matching\n",
    "To find the closest match between the ingredient names in the recipes and the food class names, it is possible to use a string similarity library such as `fuzzywuzzy` for example. This library allows to measure how similar two strings are and can help identify the closest match even when the strings don't match exactly."
   ]
  },
  {
   "cell_type": "code",
   "execution_count": 28,
   "metadata": {},
   "outputs": [],
   "source": [
    "from fuzzywuzzy import process"
   ]
  },
  {
   "cell_type": "code",
   "execution_count": 29,
   "metadata": {},
   "outputs": [],
   "source": [
    "def calculate_recipe_impact_3(recipe: pd.DataFrame) -> float:\n",
    "    total_impact = 0\n",
    "    matched_classes = []\n",
    "    \n",
    "    # Extract food class names for fuzzy matching\n",
    "    food_class_names = [fc.name for fc in food_classes.values()]\n",
    "    \n",
    "    for _, ingredient in recipe.iterrows():\n",
    "        ingredient_name = normalize_name(ingredient['Ingredient Name'])\n",
    "        \n",
    "        # Use fuzzy matching to find the closest food class name\n",
    "        closest_match, score = process.extractOne(ingredient_name, food_class_names)\n",
    "        \n",
    "        # Define a threshold for the match score\n",
    "        if score < 80:  # You can adjust this threshold\n",
    "            print(f\"Ingredient '{ingredient_name}' not closely matched to any food class.\")\n",
    "            continue\n",
    "        \n",
    "        matched_class = next(fc for fc in food_classes.values() if fc.name == closest_match)\n",
    "        matched_classes.append({\"Ingredient Name\": ingredient_name, \"Matched Food Class\": matched_class.name})\n",
    "        \n",
    "        try:\n",
    "            impact = get_impact(matched_class.id)\n",
    "            total_impact += impact * ingredient['Ingredient Weight / kg']\n",
    "        except ValueError as e:\n",
    "            print(e)\n",
    "            return None\n",
    "    \n",
    "    matched_df = pd.DataFrame(matched_classes)\n",
    "    print(\"Matched Ingredient Names and Food Class Names:\")\n",
    "    display(matched_df)\n",
    "    \n",
    "    return total_impact\n"
   ]
  },
  {
   "cell_type": "code",
   "execution_count": 30,
   "metadata": {},
   "outputs": [
    {
     "name": "stdout",
     "output_type": "stream",
     "text": [
      "Matched Ingredient Names and Food Class Names:\n"
     ]
    },
    {
     "data": {
      "text/html": [
       "<div>\n",
       "<style scoped>\n",
       "    .dataframe tbody tr th:only-of-type {\n",
       "        vertical-align: middle;\n",
       "    }\n",
       "\n",
       "    .dataframe tbody tr th {\n",
       "        vertical-align: top;\n",
       "    }\n",
       "\n",
       "    .dataframe thead th {\n",
       "        text-align: right;\n",
       "    }\n",
       "</style>\n",
       "<table border=\"1\" class=\"dataframe\">\n",
       "  <thead>\n",
       "    <tr style=\"text-align: right;\">\n",
       "      <th></th>\n",
       "      <th>Ingredient Name</th>\n",
       "      <th>Matched Food Class</th>\n",
       "    </tr>\n",
       "  </thead>\n",
       "  <tbody>\n",
       "    <tr>\n",
       "      <th>0</th>\n",
       "      <td>beef mince</td>\n",
       "      <td>Beef Mince</td>\n",
       "    </tr>\n",
       "    <tr>\n",
       "      <th>1</th>\n",
       "      <td>mince pork</td>\n",
       "      <td>Pork Mince</td>\n",
       "    </tr>\n",
       "    <tr>\n",
       "      <th>2</th>\n",
       "      <td>carrots</td>\n",
       "      <td>Carrots</td>\n",
       "    </tr>\n",
       "    <tr>\n",
       "      <th>3</th>\n",
       "      <td>onions</td>\n",
       "      <td>Onions</td>\n",
       "    </tr>\n",
       "    <tr>\n",
       "      <th>4</th>\n",
       "      <td>celery</td>\n",
       "      <td>Celery</td>\n",
       "    </tr>\n",
       "    <tr>\n",
       "      <th>5</th>\n",
       "      <td>garlic</td>\n",
       "      <td>Garlic</td>\n",
       "    </tr>\n",
       "    <tr>\n",
       "      <th>6</th>\n",
       "      <td>rosemary</td>\n",
       "      <td>Rosemary</td>\n",
       "    </tr>\n",
       "    <tr>\n",
       "      <th>7</th>\n",
       "      <td>oil olive</td>\n",
       "      <td>Olive Oil</td>\n",
       "    </tr>\n",
       "    <tr>\n",
       "      <th>8</th>\n",
       "      <td>plum tinned tomatoes</td>\n",
       "      <td>Tinned Plum Tomatoes</td>\n",
       "    </tr>\n",
       "    <tr>\n",
       "      <th>9</th>\n",
       "      <td>water</td>\n",
       "      <td>Water</td>\n",
       "    </tr>\n",
       "    <tr>\n",
       "      <th>10</th>\n",
       "      <td>red wine</td>\n",
       "      <td>Red Wine</td>\n",
       "    </tr>\n",
       "    <tr>\n",
       "      <th>11</th>\n",
       "      <td>spaghetti</td>\n",
       "      <td>Spaghetti</td>\n",
       "    </tr>\n",
       "  </tbody>\n",
       "</table>\n",
       "</div>"
      ],
      "text/plain": [
       "         Ingredient Name    Matched Food Class\n",
       "0             beef mince            Beef Mince\n",
       "1             mince pork            Pork Mince\n",
       "2                carrots               Carrots\n",
       "3                 onions                Onions\n",
       "4                 celery                Celery\n",
       "5                 garlic                Garlic\n",
       "6               rosemary              Rosemary\n",
       "7              oil olive             Olive Oil\n",
       "8   plum tinned tomatoes  Tinned Plum Tomatoes\n",
       "9                  water                 Water\n",
       "10              red wine              Red Wine\n",
       "11             spaghetti             Spaghetti"
      ]
     },
     "metadata": {},
     "output_type": "display_data"
    },
    {
     "name": "stdout",
     "output_type": "stream",
     "text": [
      "Recipe ID 1 - Spaghetti Bolognese: Total Impact = 13.989865665656001 kg CO2\n",
      "Matched Ingredient Names and Food Class Names:\n"
     ]
    },
    {
     "data": {
      "text/html": [
       "<div>\n",
       "<style scoped>\n",
       "    .dataframe tbody tr th:only-of-type {\n",
       "        vertical-align: middle;\n",
       "    }\n",
       "\n",
       "    .dataframe tbody tr th {\n",
       "        vertical-align: top;\n",
       "    }\n",
       "\n",
       "    .dataframe thead th {\n",
       "        text-align: right;\n",
       "    }\n",
       "</style>\n",
       "<table border=\"1\" class=\"dataframe\">\n",
       "  <thead>\n",
       "    <tr style=\"text-align: right;\">\n",
       "      <th></th>\n",
       "      <th>Ingredient Name</th>\n",
       "      <th>Matched Food Class</th>\n",
       "    </tr>\n",
       "  </thead>\n",
       "  <tbody>\n",
       "    <tr>\n",
       "      <th>0</th>\n",
       "      <td>cream double</td>\n",
       "      <td>Double Cream</td>\n",
       "    </tr>\n",
       "    <tr>\n",
       "      <th>1</th>\n",
       "      <td>mascarpone</td>\n",
       "      <td>Mascarpone</td>\n",
       "    </tr>\n",
       "    <tr>\n",
       "      <th>2</th>\n",
       "      <td>marsala</td>\n",
       "      <td>Marsala</td>\n",
       "    </tr>\n",
       "    <tr>\n",
       "      <th>3</th>\n",
       "      <td>caster golden sugar</td>\n",
       "      <td>Golden Caster Sugar</td>\n",
       "    </tr>\n",
       "    <tr>\n",
       "      <th>4</th>\n",
       "      <td>coffee granules</td>\n",
       "      <td>Coffee Granules</td>\n",
       "    </tr>\n",
       "    <tr>\n",
       "      <th>5</th>\n",
       "      <td>water</td>\n",
       "      <td>Water</td>\n",
       "    </tr>\n",
       "    <tr>\n",
       "      <th>6</th>\n",
       "      <td>fingers lady</td>\n",
       "      <td>Lady Fingers</td>\n",
       "    </tr>\n",
       "    <tr>\n",
       "      <th>7</th>\n",
       "      <td>chocolate dark</td>\n",
       "      <td>Dark Chocolate</td>\n",
       "    </tr>\n",
       "    <tr>\n",
       "      <th>8</th>\n",
       "      <td>cocoa powder</td>\n",
       "      <td>Cocoa Powder</td>\n",
       "    </tr>\n",
       "  </tbody>\n",
       "</table>\n",
       "</div>"
      ],
      "text/plain": [
       "       Ingredient Name   Matched Food Class\n",
       "0         cream double         Double Cream\n",
       "1           mascarpone           Mascarpone\n",
       "2              marsala              Marsala\n",
       "3  caster golden sugar  Golden Caster Sugar\n",
       "4      coffee granules      Coffee Granules\n",
       "5                water                Water\n",
       "6         fingers lady         Lady Fingers\n",
       "7       chocolate dark       Dark Chocolate\n",
       "8         cocoa powder         Cocoa Powder"
      ]
     },
     "metadata": {},
     "output_type": "display_data"
    },
    {
     "name": "stdout",
     "output_type": "stream",
     "text": [
      "Recipe ID 2 - Tiramisu: Total Impact = 4.8948132164 kg CO2\n",
      "Matched Ingredient Names and Food Class Names:\n"
     ]
    },
    {
     "data": {
      "text/html": [
       "<div>\n",
       "<style scoped>\n",
       "    .dataframe tbody tr th:only-of-type {\n",
       "        vertical-align: middle;\n",
       "    }\n",
       "\n",
       "    .dataframe tbody tr th {\n",
       "        vertical-align: top;\n",
       "    }\n",
       "\n",
       "    .dataframe thead th {\n",
       "        text-align: right;\n",
       "    }\n",
       "</style>\n",
       "<table border=\"1\" class=\"dataframe\">\n",
       "  <thead>\n",
       "    <tr style=\"text-align: right;\">\n",
       "      <th></th>\n",
       "      <th>Ingredient Name</th>\n",
       "      <th>Matched Food Class</th>\n",
       "    </tr>\n",
       "  </thead>\n",
       "  <tbody>\n",
       "    <tr>\n",
       "      <th>0</th>\n",
       "      <td>chickpeas</td>\n",
       "      <td>Chickpeas</td>\n",
       "    </tr>\n",
       "    <tr>\n",
       "      <th>1</th>\n",
       "      <td>coriander</td>\n",
       "      <td>Coriander</td>\n",
       "    </tr>\n",
       "    <tr>\n",
       "      <th>2</th>\n",
       "      <td>parsley</td>\n",
       "      <td>Parsley</td>\n",
       "    </tr>\n",
       "    <tr>\n",
       "      <th>3</th>\n",
       "      <td>onions red</td>\n",
       "      <td>Red Onions</td>\n",
       "    </tr>\n",
       "    <tr>\n",
       "      <th>4</th>\n",
       "      <td>tomatoes</td>\n",
       "      <td>Tomatoes</td>\n",
       "    </tr>\n",
       "    <tr>\n",
       "      <th>5</th>\n",
       "      <td>oil olive</td>\n",
       "      <td>Olive Oil</td>\n",
       "    </tr>\n",
       "    <tr>\n",
       "      <th>6</th>\n",
       "      <td>juice lemon</td>\n",
       "      <td>Lemon Juice</td>\n",
       "    </tr>\n",
       "    <tr>\n",
       "      <th>7</th>\n",
       "      <td>harissa</td>\n",
       "      <td>Harissa</td>\n",
       "    </tr>\n",
       "  </tbody>\n",
       "</table>\n",
       "</div>"
      ],
      "text/plain": [
       "  Ingredient Name Matched Food Class\n",
       "0       chickpeas          Chickpeas\n",
       "1       coriander          Coriander\n",
       "2         parsley            Parsley\n",
       "3      onions red         Red Onions\n",
       "4        tomatoes           Tomatoes\n",
       "5       oil olive          Olive Oil\n",
       "6     juice lemon        Lemon Juice\n",
       "7         harissa            Harissa"
      ]
     },
     "metadata": {},
     "output_type": "display_data"
    },
    {
     "name": "stdout",
     "output_type": "stream",
     "text": [
      "Recipe ID 3 - Chickpea Salad: Total Impact = 11.188634844578 kg CO2\n",
      "Ingredient 'gum xanthum' not closely matched to any food class.\n",
      "Ingredient 'milk powder' not closely matched to any food class.\n",
      "Matched Ingredient Names and Food Class Names:\n"
     ]
    },
    {
     "data": {
      "text/html": [
       "<div>\n",
       "<style scoped>\n",
       "    .dataframe tbody tr th:only-of-type {\n",
       "        vertical-align: middle;\n",
       "    }\n",
       "\n",
       "    .dataframe tbody tr th {\n",
       "        vertical-align: top;\n",
       "    }\n",
       "\n",
       "    .dataframe thead th {\n",
       "        text-align: right;\n",
       "    }\n",
       "</style>\n",
       "<table border=\"1\" class=\"dataframe\">\n",
       "  <thead>\n",
       "    <tr style=\"text-align: right;\">\n",
       "      <th></th>\n",
       "      <th>Ingredient Name</th>\n",
       "      <th>Matched Food Class</th>\n",
       "    </tr>\n",
       "  </thead>\n",
       "  <tbody>\n",
       "    <tr>\n",
       "      <th>0</th>\n",
       "      <td>cream double</td>\n",
       "      <td>Double Cream</td>\n",
       "    </tr>\n",
       "    <tr>\n",
       "      <th>1</th>\n",
       "      <td>caster sugar</td>\n",
       "      <td>Caster Sugar</td>\n",
       "    </tr>\n",
       "  </tbody>\n",
       "</table>\n",
       "</div>"
      ],
      "text/plain": [
       "  Ingredient Name Matched Food Class\n",
       "0    cream double       Double Cream\n",
       "1    caster sugar       Caster Sugar"
      ]
     },
     "metadata": {},
     "output_type": "display_data"
    },
    {
     "name": "stdout",
     "output_type": "stream",
     "text": [
      "Recipe ID 4 - Salted Caramel Ice Cream: Total Impact = 0.8426292078000001 kg CO2\n"
     ]
    }
   ],
   "source": [
    "for recipe_id, recipe_data in recipes_df_dummy.groupby('Recipe ID'):\n",
    "    recipe_name = recipe_data['Recipe Name'].iloc[0]  # Get the recipe name\n",
    "    impact = calculate_recipe_impact_3(recipe_data)\n",
    "    if impact is not None:\n",
    "        print(f\"Recipe ID {recipe_id} - {recipe_name}: Total Impact = {impact} kg CO2\")"
   ]
  },
  {
   "cell_type": "markdown",
   "metadata": {},
   "source": [
    "# Process Impact Streamlit App\n",
    "The Python file `process_impact.py` was used as custom module to run a Streamlit app for better data and results visualisation. Here is the code step-by-step."
   ]
  },
  {
   "cell_type": "markdown",
   "metadata": {},
   "source": [
    "## Step 0: Import Modules\n",
    "- **`streamlit`**: A Python library that allows you to build interactive web applications for data science and machine learning projects.\n",
    "- **`pandas`**: A data manipulation library that helps in reading, analyzing, and manipulating data stored in tables.\n",
    "- **`os`**: Provides operating system-dependent functions, which are used here to navigate file paths.\n",
    "- **`from process_impact import *`**: Imports all functions and classes from the custom `process_impact` module, which should contain the data-loading and impact-calculation functions."
   ]
  },
  {
   "cell_type": "code",
   "execution_count": null,
   "metadata": {},
   "outputs": [],
   "source": [
    "import streamlit as st\n",
    "import pandas as pd\n",
    "import os\n",
    "from process_impact import *"
   ]
  },
  {
   "cell_type": "markdown",
   "metadata": {},
   "source": [
    "## Step 1: Load Data"
   ]
  },
  {
   "cell_type": "code",
   "execution_count": null,
   "metadata": {},
   "outputs": [],
   "source": [
    "current_dir = os.path.dirname(__file__)\n",
    "food_classes_df = pd.read_csv(os.path.join(current_dir, 'food_classes.csv'))\n",
    "recipes_df = pd.read_csv(os.path.join(current_dir, 'recipes.csv'))"
   ]
  },
  {
   "cell_type": "markdown",
   "metadata": {},
   "source": [
    "##  Step 2: Streamlit UI Setup\n",
    "The title and purpose of the app are display first."
   ]
  },
  {
   "cell_type": "code",
   "execution_count": null,
   "metadata": {},
   "outputs": [],
   "source": [
    "st.title(\"Recipe Impact Calculator\")\n",
    "st.write(\"This app allows the user to preview the recipes data and to calculate recipe impacts by clicking the button below.\")"
   ]
  },
  {
   "cell_type": "markdown",
   "metadata": {},
   "source": [
    "## Step 3: Display the Recipes Data\n",
    "The first five rows of the recipes data were retrived and displayed using `st.write()`. Only the recipes data were shown assuming a user is not interested in seeing the food classes."
   ]
  },
  {
   "cell_type": "code",
   "execution_count": null,
   "metadata": {},
   "outputs": [],
   "source": [
    "st.header(\"Recipes Data\")\n",
    "st.write(\"Below is a preview of the recipes data:\")\n",
    "st.write(recipes_df.head())  # Show the head of recipes da"
   ]
  },
  {
   "cell_type": "markdown",
   "metadata": {},
   "source": [
    "## Step 4: Calculate Recipe Impacts with Button Interaction\n",
    "- **`st.button()`**: Creates a button that users can click to trigger the calculation.\n",
    "- **If the button is clicked**:\n",
    "    - `st.header()`: Displays a new section header for the results.\n",
    "    - **Try-Except Block**: Handles errors that might occur during the calculation process.\n",
    "        - `impacts = {}`: Initializes an empty dictionary to store the impact results for each recipe.\n",
    "        - `recipes_df.groupby('Recipe ID')`: Groups the `recipes_df` DataFrame by `Recipe ID`, allowing calculations on each unique recipe.\n",
    "        - **Loop**:\n",
    "            - Retrieves the name of each recipe.\n",
    "            - Calls `calculate_recipe_impact(recipe_data)` to calculate the CO₂ impact based on the recipe data, which is likely implemented in `process_impact`.\n",
    "            - If a valid impact is calculated, the result is stored in the `impacts` dictionary.\n",
    "    - **Display Results**:\n",
    "        - Loops over `impacts` and prints the recipe ID, name, and total impact on the app using `st.write()`.\n",
    "- **Error Handling**: If an error occurs, `st.error()` displays the error message on the page."
   ]
  },
  {
   "cell_type": "code",
   "execution_count": null,
   "metadata": {},
   "outputs": [],
   "source": [
    "if st.button(\"Calculate Recipe Impacts\"):\n",
    "    st.header(\"Recipe Impact Results\")\n",
    "\n",
    "    # Process each recipe and calculate impact\n",
    "    try:\n",
    "        impacts = {}\n",
    "        for recipe_id, recipe_data in recipes_df.groupby('Recipe ID'):\n",
    "            recipe_name = recipe_data['Recipe Name'].iloc[0]\n",
    "            impact = calculate_recipe_impact(recipe_data)  # Make sure this function is defined\n",
    "            if impact is not None:\n",
    "                impacts[recipe_id] = (recipe_name, impact)\n",
    "\n",
    "        for recipe_id, (recipe_name, impact) in impacts.items():\n",
    "            st.write(f\"Recipe ID {recipe_id} - {recipe_name}: Total Impact = {impact:.2f} kg CO2\")\n",
    "    except Exception as e:\n",
    "        st.error(f\"Error: {e}\")"
   ]
  },
  {
   "cell_type": "markdown",
   "metadata": {},
   "source": [
    "Link to the [Streamlit App](https://take-home-test-fs-jdygehunlwkzwbfrcybjhj.streamlit.app/)."
   ]
  },
  {
   "cell_type": "markdown",
   "metadata": {},
   "source": [
    "# Take Home Test - Frontend - Data Processing Task\n",
    "This task uses the API provided by <https://jsonplaceholder.typicode.com>.\n",
    "\n",
    "Create a single page application using JavaScript or TypeScript that fetches data from the API, and displays a list of users along with their latest post. You should include a search bar which allows filtering the results by users' names using a simple substring match.\n",
    "\n",
    "Assuming post ID corresponds to date created (lower ID means created earlier), for each user, show:\n",
    "\n",
    "- Their name\n",
    "- The title and body of their latest post\n",
    "\n",
    "Feel free to use a framework (e.g. Create React App, React) or to do it in plain JavaScript using `<script>` tags, or anything inbetween – whatever’s easiest for you.\n",
    "\n",
    "Styling is unimportant. Layout is important only insofar as the required information is presented in a sensible manner."
   ]
  },
  {
   "cell_type": "markdown",
   "metadata": {},
   "source": [
    "I solved the code challenge first using Python and Streamlit.\n",
    "\n",
    "## Step 0: Import Modules\n",
    "- **`streamlit`**: Used to build the web app interface.\n",
    "- **`requests`**: Helps fetch data from the web via HTTP requests."
   ]
  },
  {
   "cell_type": "code",
   "execution_count": null,
   "metadata": {},
   "outputs": [],
   "source": [
    "import streamlit as st\n",
    "import requests"
   ]
  },
  {
   "cell_type": "markdown",
   "metadata": {},
   "source": [
    "## Step 1: Title"
   ]
  },
  {
   "cell_type": "code",
   "execution_count": null,
   "metadata": {},
   "outputs": [],
   "source": [
    "st.title(\"Users and Posts\")"
   ]
  },
  {
   "cell_type": "markdown",
   "metadata": {},
   "source": [
    "## Step 2: Fetch Data from API\n",
    "- `requests.get()`: Fetches data from the specified API endpoints.\n",
    "- The users data and posts data are stored as JSON."
   ]
  },
  {
   "cell_type": "code",
   "execution_count": null,
   "metadata": {},
   "outputs": [],
   "source": [
    "response = requests.get(\"https://jsonplaceholder.typicode.com/users\")\n",
    "users_data = response.json()\n",
    "\n",
    "response_posts = requests.get(\"https://jsonplaceholder.typicode.com/posts\")\n",
    "posts_data = response_posts.json()"
   ]
  },
  {
   "cell_type": "markdown",
   "metadata": {},
   "source": [
    "## Step 3: Store the Latest Posts for Each User\n",
    "Loops through all posts to store the latest post for each user based on the post ID. There is an error in the following `dictionary`, the code snippet returns the earliest post for each user."
   ]
  },
  {
   "cell_type": "code",
   "execution_count": null,
   "metadata": {},
   "outputs": [],
   "source": [
    "latest_posts = {}\n",
    "for post in posts_data:\n",
    "    user_id = post[\"userId\"]\n",
    "    post_id = post[\"id\"]\n",
    "    if user_id not in latest_posts or post_id < latest_posts[user_id][\"id\"]:\n",
    "        latest_posts[user_id] = post"
   ]
  },
  {
   "cell_type": "markdown",
   "metadata": {},
   "source": [
    "The above cell was modified with the following which assumes the latest post is the one with higher `post_id`."
   ]
  },
  {
   "cell_type": "code",
   "execution_count": null,
   "metadata": {},
   "outputs": [],
   "source": [
    "latest_posts = {}\n",
    "for post in posts_data:\n",
    "    user_id = post[\"userId\"]\n",
    "    post_id = post[\"id\"]\n",
    "    if user_id not in latest_posts or post_id > latest_posts[user_id][\"id\"]:\n",
    "        latest_posts[user_id] = post"
   ]
  },
  {
   "cell_type": "markdown",
   "metadata": {},
   "source": [
    "## Step 4: Search Bar for Filtering\n",
    "A search bar is created where users can type in a name to filter the displayed users."
   ]
  },
  {
   "cell_type": "code",
   "execution_count": null,
   "metadata": {},
   "outputs": [],
   "source": [
    "search_term = st.text_input(\"Search for a user by name:\")"
   ]
  },
  {
   "cell_type": "markdown",
   "metadata": {},
   "source": [
    "## Step 5: Display Users and Their Latest Posts\n",
    "- Filters and displays each user whose name matches the search term.\n",
    "- Displays the user’s latest post by title and body."
   ]
  },
  {
   "cell_type": "code",
   "execution_count": null,
   "metadata": {},
   "outputs": [],
   "source": [
    "for user in users_data:\n",
    "    if search_term.lower() in user[\"name\"].lower():\n",
    "        st.subheader(user[\"name\"])\n",
    "        latest_post = latest_posts[user[\"id\"]]\n",
    "        st.write(f\"**Title:** {latest_post['title']}\")\n",
    "        st.write(f\"**Body:** {latest_post['body']}\")\n",
    "        st.write(\"---\")"
   ]
  },
  {
   "cell_type": "markdown",
   "metadata": {},
   "source": [
    "Link to the [Streamlit App](https://take-home-test-fs-dmdb6hg6h2qiqgedej7wfh.streamlit.app/)."
   ]
  },
  {
   "cell_type": "markdown",
   "metadata": {},
   "source": [
    "# Create React App\n",
    "This is a React component that displays users and their latest posts, allowing users to search by name."
   ]
  },
  {
   "cell_type": "code",
   "execution_count": null,
   "metadata": {
    "vscode": {
     "languageId": "javascript"
    }
   },
   "outputs": [],
   "source": [
    "import React, { useEffect, useState } from 'react';"
   ]
  },
  {
   "cell_type": "markdown",
   "metadata": {},
   "source": [
    "## Step 1: State Management\n",
    "- `users`: Stores the list of user data fetched from an API.\n",
    "- `posts`: Stores the list of posts fetched from another API.\n",
    "- `filteredUsers`: Stores the subset of users that match the current search term.\n",
    "- `searchTerm`: Keeps track of the current text entered in the search bar."
   ]
  },
  {
   "cell_type": "code",
   "execution_count": null,
   "metadata": {
    "vscode": {
     "languageId": "javascript"
    }
   },
   "outputs": [],
   "source": [
    "const [users, setUsers] = useState([]);\n",
    "const [posts, setPosts] = useState([]);\n",
    "const [filteredUsers, setFilteredUsers] = useState([]);\n",
    "const [searchTerm, setSearchTerm] = useState('');"
   ]
  },
  {
   "cell_type": "markdown",
   "metadata": {},
   "source": [
    "## Step 2: Data Fetching with `useEffect`\n",
    "This effect runs only once, when the component mounts, due to the empty dependency array []. It defines an asynchronous fetchData function that:\n",
    "- Fetches users and posts from two endpoints.\n",
    "- Parses the responses to JSON.\n",
    "- Stores the data in the corresponding state variables (users and posts).\n",
    "- If there’s an error in fetching the data, it logs the error to the console."
   ]
  },
  {
   "cell_type": "code",
   "execution_count": null,
   "metadata": {
    "vscode": {
     "languageId": "javascript"
    }
   },
   "outputs": [],
   "source": [
    "useEffect(() => {\n",
    "    const fetchData = async () => {\n",
    "        try {\n",
    "            const usersResponse = await fetch('https://jsonplaceholder.typicode.com/users');\n",
    "            const usersData = await usersResponse.json();\n",
    "            const postsResponse = await fetch('https://jsonplaceholder.typicode.com/posts');\n",
    "            const postsData = await postsResponse.json();\n",
    "\n",
    "            setUsers(usersData);\n",
    "            setPosts(postsData);\n",
    "            setFilteredUsers(usersData);\n",
    "        } catch (error) {\n",
    "            console.error('Error fetching data:', error);\n",
    "        }\n",
    "    };\n",
    "    fetchData();\n",
    "}, []);"
   ]
  },
  {
   "cell_type": "markdown",
   "metadata": {},
   "source": [
    "## Step 3: Search Filter with `useEffect`\n",
    "This effect runs every time the s`earchTerm` or `users` state changes. It filters the `users` array based on whether each user’s name includes the search term, ignoring case. The resulting filtered list is stored in `filteredUsers`."
   ]
  },
  {
   "cell_type": "code",
   "execution_count": null,
   "metadata": {
    "vscode": {
     "languageId": "javascript"
    }
   },
   "outputs": [],
   "source": [
    "useEffect(() => {\n",
    "    const filtered = users.filter(user =>\n",
    "        user.name.toLowerCase().includes(searchTerm.toLowerCase())\n",
    "    );\n",
    "    setFilteredUsers(filtered);\n",
    "}, [searchTerm, users]);"
   ]
  },
  {
   "cell_type": "markdown",
   "metadata": {},
   "source": [
    "## Step 4: Get the Latest Post\n",
    "This function retrieves all posts made by a specific user (by `userId`). If no posts are found, it returns `null`.\n",
    "It sorts the posts by `id` in descending order, assuming the highest `id` corresponds to the most recent post. Finally, it returns the most recent post for that user."
   ]
  },
  {
   "cell_type": "code",
   "execution_count": null,
   "metadata": {
    "vscode": {
     "languageId": "javascript"
    }
   },
   "outputs": [],
   "source": [
    "const getLatestPost = (userId) => {\n",
    "    const userPosts = posts.filter(post => post.userId === userId);\n",
    "    if (userPosts.length === 0) return null;\n",
    "    userPosts.sort((a, b) => b.id - a.id);\n",
    "    return userPosts[0];\n",
    "};"
   ]
  },
  {
   "cell_type": "markdown",
   "metadata": {},
   "source": [
    "Instead, if the goal was to obtain the earliest post, the function can be modified to sort the posts by `id` in ascending order."
   ]
  },
  {
   "cell_type": "code",
   "execution_count": null,
   "metadata": {
    "vscode": {
     "languageId": "javascript"
    }
   },
   "outputs": [],
   "source": [
    "const getEarliestPost = (userId) => {\n",
    "    const userPosts = posts.filter(post => post.userId === userId);\n",
    "    if (userPosts.length === 0) return null;\n",
    "    userPosts.sort((a, b) => a.id - b.id);\n",
    "    return userPosts[0];\n",
    "};"
   ]
  },
  {
   "cell_type": "markdown",
   "metadata": {},
   "source": [
    "## Step 5: Render the UI\n",
    "- A search bar is rendered with an `onChange` event handler that updates the `searchTerm` state.\n",
    "- The `filteredUsers` array is iterated over to render each user.\n",
    "- For each user, it retrieves their latest post using the `getLatestPost` function and displays it.\n",
    "- If a user has no posts, it displays “No posts available.”"
   ]
  },
  {
   "cell_type": "code",
   "execution_count": null,
   "metadata": {
    "vscode": {
     "languageId": "javascript"
    }
   },
   "outputs": [],
   "source": [
    "return (\n",
    "    <div style={{ padding: '20px', fontFamily: 'Arial, sans-serif' }}>\n",
    "        <h1>User Posts</h1>\n",
    "\n",
    "        <input\n",
    "            type=\"text\"\n",
    "            placeholder=\"Search users by name\"\n",
    "            value={searchTerm}\n",
    "            onChange={(e) => setSearchTerm(e.target.value)}\n",
    "            style={{ padding: '10px', width: '100%', marginBottom: '20px' }}\n",
    "        />\n",
    "\n",
    "        <div>\n",
    "            {filteredUsers.map(user => {\n",
    "                const latestPost = getLatestPost(user.id);\n",
    "                return (\n",
    "                    <div key={user.id} style={{ borderBottom: '1px solid #ccc', marginBottom: '20px', paddingBottom: '20px' }}>\n",
    "                        <h2>{user.name}</h2>\n",
    "                        {latestPost ? (\n",
    "                            <div>\n",
    "                                <h3>{latestPost.title}</h3>\n",
    "                                <p>{latestPost.body}</p>\n",
    "                            </div>\n",
    "                        ) : (\n",
    "                            <p>No posts available.</p>\n",
    "                        )}\n",
    "                    </div>\n",
    "                );\n",
    "            })}\n",
    "        </div>\n",
    "    </div>\n",
    ");"
   ]
  },
  {
   "cell_type": "markdown",
   "metadata": {},
   "source": [
    "## Originating from Streamlit\n",
    "To translate this task from Streamlit to React, I was focused on:\n",
    "1. **API Data Handling**: Instead of using `requests.get()`, I used JavaScript’s `fetch` API.\n",
    "2. **State Management**: React’s `useState` and `useEffect` replace variable assignment and lifecycle functions in Python.\n",
    "3. **Event-Driven Updates**: Unlike Streamlit, React is inherently reactive, meaning components automatically re-render when their state changes, so filtering users based on input is handled smoothly with state changes.\n",
    "\n",
    "The core logic—fetching data, filtering it, and rendering based on user interactions—remains conceptually similar between a Streamlit app and this React app."
   ]
  }
 ],
 "metadata": {
  "kernelspec": {
   "display_name": "base",
   "language": "python",
   "name": "python3"
  },
  "language_info": {
   "codemirror_mode": {
    "name": "ipython",
    "version": 3
   },
   "file_extension": ".py",
   "mimetype": "text/x-python",
   "name": "python",
   "nbconvert_exporter": "python",
   "pygments_lexer": "ipython3",
   "version": "3.11.5"
  }
 },
 "nbformat": 4,
 "nbformat_minor": 4
}
